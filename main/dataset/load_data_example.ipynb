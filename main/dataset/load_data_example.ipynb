{
 "cells": [
  {
   "cell_type": "markdown",
   "metadata": {},
   "source": [
    "## Imports"
   ]
  },
  {
   "cell_type": "code",
   "execution_count": null,
   "metadata": {},
   "outputs": [],
   "source": [
    "from data_utils import *"
   ]
  },
  {
   "cell_type": "code",
   "execution_count": null,
   "metadata": {},
   "outputs": [],
   "source": [
    "%matplotlib inline\n",
    "plt.rcParams['figure.figsize'] = (10.0, 8.0) # set default size of plots\n",
    "plt.rcParams['image.interpolation'] = 'nearest'\n",
    "plt.rcParams['image.cmap'] = 'gray'\n",
    "\n",
    "%load_ext autoreload\n",
    "%autoreload 2"
   ]
  },
  {
   "cell_type": "markdown",
   "metadata": {},
   "source": [
    "## Load Dataset"
   ]
  },
  {
   "cell_type": "code",
   "execution_count": null,
   "metadata": {},
   "outputs": [],
   "source": [
    "dataset1_path = \"../../../dataset 1\"\n",
    "dataset2_path = \"../../../dataset 2(only lp)/41082077licence_img\"\n",
    "\n",
    "raw_data1, raw_data2 = load_data(dataset1_path, dataset2_path)\n",
    "data1, data2 = convert_data(raw_data1), raw_data2"
   ]
  },
  {
   "cell_type": "markdown",
   "metadata": {},
   "source": [
    "## (Checkpoint) Load/Save Data Dictionary"
   ]
  },
  {
   "cell_type": "code",
   "execution_count": null,
   "metadata": {},
   "outputs": [],
   "source": [
    "data_save_dir = \"saved datasets\"\n",
    "data_name = \"version2\"\n",
    "if not os.path.isdir(data_save_dir):\n",
    "    os.makedirs(data_save_dir)\n",
    "    \n",
    "dataset1_path = os.path.join(data_save_dir, data_name+\"_dataset1.p\")\n",
    "dataset2_path = os.path.join(data_save_dir, data_name+\"_dataset2.p\")"
   ]
  },
  {
   "cell_type": "code",
   "execution_count": null,
   "metadata": {},
   "outputs": [],
   "source": [
    "# LOAD dataset dictionary\n",
    "if ('data1' not in globals()): # if dataset 1 is not yet loaded\n",
    "    with open(dataset1_path, 'rb') as fp:\n",
    "        data1 = pickle.load(fp)\n",
    "if ('data2' not in globals()):\n",
    "    with open(dataset2_path, 'rb') as fp:\n",
    "        data2 = pickle.load(fp)"
   ]
  },
  {
   "cell_type": "code",
   "execution_count": null,
   "metadata": {},
   "outputs": [],
   "source": [
    "# SAVE dataset dictionary\n",
    "if not os.path.isfile(dataset1_path) or not os.path.isfile(dataset2_path): # if dataset is already saved\n",
    "    with open(dataset1_path, 'wb') as fp:\n",
    "        pickle.dump(data1, fp, protocol=pickle.HIGHEST_PROTOCOL)\n",
    "    with open(dataset2_path, 'wb') as fp:\n",
    "        pickle.dump(data2, fp, protocol=pickle.HIGHEST_PROTOCOL)"
   ]
  },
  {
   "cell_type": "markdown",
   "metadata": {},
   "source": [
    "## Visualize Dataset 1"
   ]
  },
  {
   "cell_type": "code",
   "execution_count": null,
   "metadata": {},
   "outputs": [],
   "source": [
    "#visualize_dataset(data1, 4)\n",
    "visualize_dataset_with_boxes(data1, 4)"
   ]
  }
 ],
 "metadata": {
  "kernelspec": {
   "display_name": "Python 3",
   "language": "python",
   "name": "python3"
  },
  "language_info": {
   "codemirror_mode": {
    "name": "ipython",
    "version": 3
   },
   "file_extension": ".py",
   "mimetype": "text/x-python",
   "name": "python",
   "nbconvert_exporter": "python",
   "pygments_lexer": "ipython3",
   "version": "3.5.5"
  }
 },
 "nbformat": 4,
 "nbformat_minor": 2
}
